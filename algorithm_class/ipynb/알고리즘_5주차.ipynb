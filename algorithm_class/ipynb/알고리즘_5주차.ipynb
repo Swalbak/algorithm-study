{
  "nbformat": 4,
  "nbformat_minor": 0,
  "metadata": {
    "colab": {
      "provenance": [],
      "collapsed_sections": [],
      "authorship_tag": "ABX9TyPpHLPVs6tPZlLFG/I2yRFa",
      "include_colab_link": true
    },
    "kernelspec": {
      "name": "python3",
      "display_name": "Python 3"
    },
    "language_info": {
      "name": "python"
    }
  },
  "cells": [
    {
      "cell_type": "markdown",
      "metadata": {
        "id": "view-in-github",
        "colab_type": "text"
      },
      "source": [
        "<a href=\"https://colab.research.google.com/github/Swalbak/algorithm-study/blob/main/algorithm_class/ipynb/%EC%95%8C%EA%B3%A0%EB%A6%AC%EC%A6%98_5%EC%A3%BC%EC%B0%A8.ipynb\" target=\"_parent\"><img src=\"https://colab.research.google.com/assets/colab-badge.svg\" alt=\"Open In Colab\"/></a>"
      ]
    },
    {
      "cell_type": "markdown",
      "source": [
        "#1, 2. Merge Sort 구현\n"
      ],
      "metadata": {
        "id": "zA67s0CT7tdU"
      }
    },
    {
      "cell_type": "code",
      "execution_count": 1,
      "metadata": {
        "id": "fDJiXMW97qRw"
      },
      "outputs": [],
      "source": [
        "def merge_sort(start, end, arr, reverse=False):\n",
        "    if start == end:\n",
        "        return [arr[start]]\n",
        "\n",
        "    mid = (start + end) // 2\n",
        "    return merge(merge_sort(start, mid, arr, reverse), merge_sort(mid+1, end, arr, reverse), reverse)"
      ]
    },
    {
      "cell_type": "code",
      "source": [
        "def merge(array1, array2, reverse=False):\n",
        "    new_arr = []\n",
        "    p1 = p2 = 0\n",
        "\n",
        "    while p1 < len(array1) and p2 < len(array2):\n",
        "        if not reverse:\n",
        "            if array1[p1] < array2[p2]:\n",
        "                new_arr.append(array1[p1])\n",
        "                p1 += 1\n",
        "            else:\n",
        "                new_arr.append(array2[p2])\n",
        "                p2 += 1\n",
        "        else:\n",
        "            if array1[p1] > array2[p2]:\n",
        "                new_arr.append(array1[p1])\n",
        "                p1 += 1\n",
        "            else:\n",
        "                new_arr.append(array2[p2])\n",
        "                p2 += 1\n",
        "\n",
        "    if p1 == len(array1):\n",
        "        new_arr += array2[p2: ]\n",
        "    else:\n",
        "        new_arr += array1[p1: ]\n",
        "    \n",
        "    return new_arr"
      ],
      "metadata": {
        "id": "ftWoulH-8V1E"
      },
      "execution_count": 2,
      "outputs": []
    },
    {
      "cell_type": "code",
      "source": [
        "a1 = [1, 3, 6, 5, 3, 2, 6, 1, 3, 6, 8, 26]\n",
        "merge_sort(0, len(a1)-1, a1, True)"
      ],
      "metadata": {
        "colab": {
          "base_uri": "https://localhost:8080/"
        },
        "id": "or8zAJJy-H2l",
        "outputId": "5892aa9d-ba07-4428-b363-b51676e871b5"
      },
      "execution_count": 3,
      "outputs": [
        {
          "output_type": "execute_result",
          "data": {
            "text/plain": [
              "[26, 8, 6, 6, 6, 5, 3, 3, 3, 2, 1, 1]"
            ]
          },
          "metadata": {},
          "execution_count": 3
        }
      ]
    },
    {
      "cell_type": "markdown",
      "source": [
        "# 3. 배열에서 i번째부터 j번째 숫자까지 자르고 정렬 후 k번째에 있는 수를 구하기(commands: i, j, k의 배열)"
      ],
      "metadata": {
        "id": "LjJKLFvlAhxt"
      }
    },
    {
      "cell_type": "code",
      "source": [
        "array = [1, 5, 2, 6, 3, 7, 4]\n",
        "commands = [[2, 5, 3], [4, 4, 1], [1, 7, 3]]\n",
        "result = []\n",
        "\n",
        "for arr in commands:\n",
        "    i, j, k = arr\n",
        "    result.append(merge_sort(0, j-i, array[i-1 : j])[k-1])\n",
        "\n",
        "result"
      ],
      "metadata": {
        "colab": {
          "base_uri": "https://localhost:8080/"
        },
        "id": "SvUturLzAhH2",
        "outputId": "3ef1b9ca-0dda-44a2-d7c0-588a97ba68f3"
      },
      "execution_count": 4,
      "outputs": [
        {
          "output_type": "execute_result",
          "data": {
            "text/plain": [
              "[5, 6, 3]"
            ]
          },
          "metadata": {},
          "execution_count": 4
        }
      ]
    },
    {
      "cell_type": "markdown",
      "source": [
        "# 4. 0 또는 양의 정수가 주어졌을 때 이어 붙여 만들 수 있는 가장 큰 수를 출력하시오."
      ],
      "metadata": {
        "id": "gZoCluUqCA1G"
      }
    },
    {
      "cell_type": "code",
      "source": [
        "num_arr = input().split(\" \")\n",
        "result = \"\"\n",
        "\n",
        "max_len = max(map(len, num_arr))\n",
        "temp_arr = list(map(lambda x: int(x + x[-1] * (max_len-len(x))), num_arr))\n",
        "\n",
        "while len(temp_arr) != 0:\n",
        "    max_value_index = temp_arr.index(max(temp_arr))\n",
        "    result += num_arr[max_value_index]\n",
        "    del temp_arr[max_value_index]\n",
        "    del num_arr[max_value_index]\n",
        "\n",
        "result"
      ],
      "metadata": {
        "colab": {
          "base_uri": "https://localhost:8080/",
          "height": 54
        },
        "id": "TJqpBimXCCo-",
        "outputId": "79668f4b-3244-47de-8ab2-c2f8659a60be"
      },
      "execution_count": 13,
      "outputs": [
        {
          "name": "stdout",
          "output_type": "stream",
          "text": [
            "3 30 34 5 9\n"
          ]
        },
        {
          "output_type": "execute_result",
          "data": {
            "text/plain": [
              "'9534330'"
            ],
            "application/vnd.google.colaboratory.intrinsic+json": {
              "type": "string"
            }
          },
          "metadata": {},
          "execution_count": 13
        }
      ]
    }
  ]
}