{
  "nbformat": 4,
  "nbformat_minor": 0,
  "metadata": {
    "colab": {
      "provenance": [],
      "collapsed_sections": [],
      "authorship_tag": "ABX9TyNLK7KpDKZDSNQ03BltAThZ",
      "include_colab_link": true
    },
    "kernelspec": {
      "name": "python3",
      "display_name": "Python 3"
    },
    "language_info": {
      "name": "python"
    }
  },
  "cells": [
    {
      "cell_type": "markdown",
      "metadata": {
        "id": "view-in-github",
        "colab_type": "text"
      },
      "source": [
        "<a href=\"https://colab.research.google.com/github/Swalbak/algorithm-study/blob/main/algorithm_class/ipynb/%EC%95%8C%EA%B3%A0%EB%A6%AC%EC%A6%98_6%EC%A3%BC%EC%B0%A8.ipynb\" target=\"_parent\"><img src=\"https://colab.research.google.com/assets/colab-badge.svg\" alt=\"Open In Colab\"/></a>"
      ]
    },
    {
      "cell_type": "markdown",
      "source": [
        "# 1. 퀵 정렬을 오름차순으로 구현하시오."
      ],
      "metadata": {
        "id": "QUsPkDphBc1w"
      }
    },
    {
      "cell_type": "code",
      "execution_count": 9,
      "metadata": {
        "id": "p1RtSWVymbNS"
      },
      "outputs": [],
      "source": [
        "def quick_sort(A, start, end, reverse=False):\n",
        "    if start >= end:\n",
        "        return\n",
        "\n",
        "    i = partition(A, start, end, reverse)\n",
        "    quick_sort(A, start, i-1, reverse)\n",
        "    quick_sort(A, i+1, end, reverse)"
      ]
    },
    {
      "cell_type": "code",
      "source": [
        "def partition(A, start, end, reverse):\n",
        "    pivot = end\n",
        "    A[end], A[(start+end)//2] = A[(start+end)//2], A[end]\n",
        "    i = start\n",
        "    \n",
        "    for p in range(start, end):\n",
        "        if not reverse:\n",
        "            if A[p] < A[pivot]:\n",
        "                A[i], A[p] = A[p], A[i]\n",
        "                i += 1\n",
        "        else:\n",
        "            if A[p] > A[pivot]:\n",
        "                A[i], A[p] = A[p], A[i]\n",
        "                i += 1\n",
        "\n",
        "    A[i], A[pivot] = A[pivot], A[i]\n",
        "\n",
        "    return i"
      ],
      "metadata": {
        "id": "O-c_bhvCGcgo"
      },
      "execution_count": 8,
      "outputs": []
    },
    {
      "cell_type": "code",
      "source": [
        "A = [1, 5, 3, 6, 3, 2, 1, 7]\n",
        "quick_sort(A, 0, len(A)-1, reverse=True)\n",
        "A"
      ],
      "metadata": {
        "colab": {
          "base_uri": "https://localhost:8080/"
        },
        "id": "5vAT4U_2FfVo",
        "outputId": "8256541c-c7b7-4cd3-ca01-770fe44b3481"
      },
      "execution_count": 12,
      "outputs": [
        {
          "output_type": "execute_result",
          "data": {
            "text/plain": [
              "[7, 6, 5, 3, 3, 2, 1, 1]"
            ]
          },
          "metadata": {},
          "execution_count": 12
        }
      ]
    },
    {
      "cell_type": "markdown",
      "source": [
        "# 2. 정렬된 두 배열을 합친 후 정렬하여 출력하는 프로그램을 작성하시오."
      ],
      "metadata": {
        "id": "7JlkhKS7Hvx5"
      }
    },
    {
      "cell_type": "code",
      "source": [
        "def merge(A, B):\n",
        "    i = k = 0\n",
        "    merged_arr = []\n",
        "\n",
        "    while i < len(A) and k < len(B):\n",
        "        if A[i] < B[k]:\n",
        "            merged_arr.append(A[i])\n",
        "            i += 1\n",
        "        else:\n",
        "            merged_arr.append(B[k])\n",
        "            k += 1\n",
        "    \n",
        "    if i == len(A):\n",
        "        merged_arr += B[k:]\n",
        "    else:\n",
        "        merged_arr += A[i:]\n",
        "    \n",
        "    return merged_arr"
      ],
      "metadata": {
        "id": "yZbRYNWkH1l4"
      },
      "execution_count": 14,
      "outputs": []
    },
    {
      "cell_type": "code",
      "source": [
        "N, M = map(int, input().split())\n",
        "A = list(map(int, input().split()))\n",
        "B = list(map(int, input().split()))\n",
        "\n",
        "merge(A, B)"
      ],
      "metadata": {
        "colab": {
          "base_uri": "https://localhost:8080/"
        },
        "id": "xMjiFoVlI-9J",
        "outputId": "9540b0f1-6b3c-47cb-acfc-383535233743"
      },
      "execution_count": 17,
      "outputs": [
        {
          "name": "stdout",
          "output_type": "stream",
          "text": [
            "4 3\n",
            "2 3 5 9\n",
            "1 4 7\n"
          ]
        },
        {
          "output_type": "execute_result",
          "data": {
            "text/plain": [
              "[1, 2, 3, 4, 5, 7, 9]"
            ]
          },
          "metadata": {},
          "execution_count": 17
        }
      ]
    },
    {
      "cell_type": "markdown",
      "source": [
        "# 3. 주어진 완전 이진 트리가 MAX-HEAP인지 확인하라."
      ],
      "metadata": {
        "id": "lJ9sO6HzJcoJ"
      }
    },
    {
      "cell_type": "code",
      "source": [
        "def is_maxheap(A, i):\n",
        "    if i*2 > len(A) - 1:\n",
        "        return True\n",
        "\n",
        "    if \n",
        "    else:\n",
        "        return True\n",
        "\n",
        "    if not myres:\n",
        "        return False\n",
        "    else:\n",
        "        return is_maxheap(A, )\n",
        "        "
      ],
      "metadata": {
        "id": "WvEf0mTBKf6B"
      },
      "execution_count": 21,
      "outputs": []
    }
  ]
}