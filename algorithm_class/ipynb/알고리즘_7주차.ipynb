{
 "cells": [
  {
   "cell_type": "markdown",
   "metadata": {},
   "source": [
    "# 1. 힙정렬을 오름차순으로 구현하시오."
   ]
  },
  {
   "cell_type": "code",
   "execution_count": 1,
   "metadata": {},
   "outputs": [],
   "source": [
    "# heapify 구현\n",
    "def max_heapify(arr, i):\n",
    "    if i*2 >= len(arr):\n",
    "        return\n",
    "    \n",
    "    left_index = i * 2\n",
    "    right_index = i * 2 + 1\n",
    "    max_index = left_index\n",
    "\n",
    "    if right_index < len(arr):\n",
    "        if arr[right_index] > arr[left_index]:\n",
    "            max_index = right_index\n",
    "    \n",
    "    if arr[i] >= arr[max_index]:\n",
    "        return\n",
    "    \n",
    "    arr[max_index], arr[i] = arr[i], arr[max_index]\n",
    "    max_heapify(arr, max_index)"
   ]
  },
  {
   "cell_type": "code",
   "execution_count": 2,
   "metadata": {},
   "outputs": [],
   "source": [
    "# heaptree 만들기\n",
    "def make_heapTree(arr):\n",
    "    for i in range((len(arr) - 1) // 2, 0, -1):\n",
    "        max_heapify(arr, i)"
   ]
  },
  {
   "cell_type": "code",
   "execution_count": 13,
   "metadata": {},
   "outputs": [],
   "source": [
    "def heap_sort(heap, reverse = False):\n",
    "    if len(heap) <= 2:\n",
    "        return [heap[-1]]\n",
    "    \n",
    "    head = heap[1]\n",
    "    heap[1] = heap[-1]\n",
    "    heap = heap[:-1]\n",
    "    max_heapify(heap, 1)\n",
    "\n",
    "    if reverse:\n",
    "        return [head] + heap_sort(heap)\n",
    "    else:\n",
    "        return heap_sort(heap) + [head]"
   ]
  },
  {
   "cell_type": "code",
   "execution_count": 14,
   "metadata": {},
   "outputs": [
    {
     "name": "stdout",
     "output_type": "stream",
     "text": [
      "[None, 1, 2, 3, 4, 4]\n",
      "[None, 4, 4, 3, 2, 1]\n"
     ]
    },
    {
     "data": {
      "text/plain": [
       "[1, 2, 3, 4, 4]"
      ]
     },
     "execution_count": 14,
     "metadata": {},
     "output_type": "execute_result"
    }
   ],
   "source": [
    "arr = list(map(int, input().split()))\n",
    "arr = [None] + arr \n",
    "print(arr)\n",
    "make_heapTree(arr)\n",
    "print(arr)\n",
    "heap_sort(arr)"
   ]
  },
  {
   "cell_type": "markdown",
   "metadata": {},
   "source": [
    "# 2. 계수정렬을 오름차순으로 구현하시오."
   ]
  },
  {
   "cell_type": "code",
   "execution_count": 19,
   "metadata": {},
   "outputs": [],
   "source": [
    "def count_sort(arr, start, end):\n",
    "    \n",
    "\n",
    "    return res_arr"
   ]
  },
  {
   "cell_type": "code",
   "execution_count": 21,
   "metadata": {},
   "outputs": [
    {
     "ename": "ValueError",
     "evalue": "invalid literal for int() with base 10: ''",
     "output_type": "error",
     "traceback": [
      "\u001b[0;31m---------------------------------------------------------------------------\u001b[0m",
      "\u001b[0;31mValueError\u001b[0m                                Traceback (most recent call last)",
      "Cell \u001b[0;32mIn [21], line 1\u001b[0m\n\u001b[0;32m----> 1\u001b[0m start \u001b[39m=\u001b[39m \u001b[39mint\u001b[39;49m(\u001b[39minput\u001b[39;49m(\u001b[39m\"\u001b[39;49m\u001b[39mstart: \u001b[39;49m\u001b[39m\"\u001b[39;49m))\n\u001b[1;32m      2\u001b[0m end \u001b[39m=\u001b[39m \u001b[39mint\u001b[39m(\u001b[39minput\u001b[39m(\u001b[39m\"\u001b[39m\u001b[39mend: \u001b[39m\u001b[39m\"\u001b[39m))\n\u001b[1;32m      3\u001b[0m arr \u001b[39m=\u001b[39m \u001b[39mlist\u001b[39m(\u001b[39mmap\u001b[39m(\u001b[39mint\u001b[39m, \u001b[39minput\u001b[39m()\u001b[39m.\u001b[39msplit()))\n",
      "\u001b[0;31mValueError\u001b[0m: invalid literal for int() with base 10: ''"
     ]
    }
   ],
   "source": [
    "start = int(input(\"start: \"))\n",
    "end = int(input(\"end: \"))\n",
    "arr = list(map(int, input().split()))\n",
    "\n",
    "count_sort(arr, start, end)"
   ]
  },
  {
   "cell_type": "markdown",
   "metadata": {},
   "source": [
    "# 3. N개의 정수 중 X라는 정수가 존재하는지 알아내는 프로그램 작성하기"
   ]
  },
  {
   "cell_type": "code",
   "execution_count": 39,
   "metadata": {},
   "outputs": [],
   "source": [
    "def binary_search(arr, start, end, findvalue):\n",
    "    if start > end:\n",
    "        return False\n",
    "\n",
    "    pivot = end\n",
    "    arr[pivot], arr[(start+end)//2] = arr[(start+end)//2], arr[pivot]\n",
    "\n",
    "    if arr[pivot] == findvalue:\n",
    "        return True\n",
    "\n",
    "    i = start\n",
    "\n",
    "    for k in range(start, end):\n",
    "        if arr[pivot] >= arr[k]:\n",
    "            arr[i], arr[k] = arr[k], arr[i]\n",
    "            i += 1\n",
    "    arr[i], arr[pivot] = arr[pivot], arr[i]\n",
    "\n",
    "    if arr[i] < findvalue:\n",
    "        return binary_search(arr, i+1, end, findvalue)\n",
    "    else:\n",
    "        return binary_search(arr, start, i-1, findvalue)\n",
    "    "
   ]
  },
  {
   "cell_type": "code",
   "execution_count": 40,
   "metadata": {},
   "outputs": [],
   "source": [
    "def search(arr, findvalue):\n",
    "    return binary_search(arr, 0, len(arr)-1, findvalue)"
   ]
  },
  {
   "cell_type": "code",
   "execution_count": 42,
   "metadata": {},
   "outputs": [
    {
     "name": "stdout",
     "output_type": "stream",
     "text": [
      "1\n",
      "1\n",
      "0\n",
      "0\n",
      "1\n"
     ]
    }
   ],
   "source": [
    "N = int(input())\n",
    "A = list(map(int, input().split()))\n",
    "M = int(input())\n",
    "M_list = list(map(int, input().split()))\n",
    "\n",
    "for find in M_list:\n",
    "    print(int(search(A, find)))"
   ]
  },
  {
   "cell_type": "code",
   "execution_count": 49,
   "metadata": {},
   "outputs": [
    {
     "ename": "KeyboardInterrupt",
     "evalue": "",
     "output_type": "error",
     "traceback": [
      "\u001b[0;31m---------------------------------------------------------------------------\u001b[0m",
      "\u001b[0;31mKeyboardInterrupt\u001b[0m                         Traceback (most recent call last)",
      "Cell \u001b[0;32mIn [49], line 6\u001b[0m\n\u001b[1;32m      3\u001b[0m c2 \u001b[39m=\u001b[39m \u001b[39m0\u001b[39m\n\u001b[1;32m      4\u001b[0m N \u001b[39m%\u001b[39m\u001b[39m=\u001b[39m \u001b[39m5\u001b[39m\n\u001b[0;32m----> 6\u001b[0m \u001b[39mwhile\u001b[39;00m N \u001b[39m!=\u001b[39m \u001b[39m0\u001b[39m:\n\u001b[1;32m      7\u001b[0m     c2 \u001b[39m+\u001b[39m\u001b[39m=\u001b[39m N \u001b[39m/\u001b[39m\u001b[39m/\u001b[39m \u001b[39m3\u001b[39m\n\u001b[1;32m      8\u001b[0m     N \u001b[39m=\u001b[39m N \u001b[39m%\u001b[39m \u001b[39m3\u001b[39m\n",
      "\u001b[0;31mKeyboardInterrupt\u001b[0m: "
     ]
    }
   ],
   "source": [
    "N = int(input())\n",
    "c1 = N // 5\n",
    "\n",
    "\n",
    "print(c1 + c2)"
   ]
  },
  {
   "cell_type": "code",
   "execution_count": null,
   "metadata": {},
   "outputs": [],
   "source": []
  }
 ],
 "metadata": {
  "kernelspec": {
   "display_name": "Python 3.10.8 64-bit",
   "language": "python",
   "name": "python3"
  },
  "language_info": {
   "codemirror_mode": {
    "name": "ipython",
    "version": 3
   },
   "file_extension": ".py",
   "mimetype": "text/x-python",
   "name": "python",
   "nbconvert_exporter": "python",
   "pygments_lexer": "ipython3",
   "version": "3.10.8"
  },
  "orig_nbformat": 4,
  "vscode": {
   "interpreter": {
    "hash": "aee8b7b246df8f9039afb4144a1f6fd8d2ca17a180786b69acc140d282b71a49"
   }
  }
 },
 "nbformat": 4,
 "nbformat_minor": 2
}
