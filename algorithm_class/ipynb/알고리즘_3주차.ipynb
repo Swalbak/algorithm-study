{
  "nbformat": 4,
  "nbformat_minor": 0,
  "metadata": {
    "colab": {
      "provenance": [],
      "collapsed_sections": [],
      "authorship_tag": "ABX9TyMrm9AucC82LJghQA1wCyI2",
      "include_colab_link": true
    },
    "kernelspec": {
      "name": "python3",
      "display_name": "Python 3"
    },
    "language_info": {
      "name": "python"
    }
  },
  "cells": [
    {
      "cell_type": "markdown",
      "metadata": {
        "id": "view-in-github",
        "colab_type": "text"
      },
      "source": [
        "<a href=\"https://colab.research.google.com/github/Swalbak/algorithm-study/blob/main/algorithm_class/ipynb/%EC%95%8C%EA%B3%A0%EB%A6%AC%EC%A6%98_3%EC%A3%BC%EC%B0%A8.ipynb\" target=\"_parent\"><img src=\"https://colab.research.google.com/assets/colab-badge.svg\" alt=\"Open In Colab\"/></a>"
      ]
    },
    {
      "cell_type": "markdown",
      "source": [
        "1. 매개 변수 n이 입력되었을 때, n의 각 자릿수를 반대로 나열하여 새로운 정수를 반\n",
        "환하는 함수 desc를 직접 구현하세요.\n",
        "\n",
        "▪ 단, reverse( ) 사용 X"
      ],
      "metadata": {
        "id": "3uBSdTDxolOT"
      }
    },
    {
      "cell_type": "code",
      "execution_count": 3,
      "metadata": {
        "colab": {
          "base_uri": "https://localhost:8080/"
        },
        "id": "sosNSgCMokYz",
        "outputId": "ca5977d8-9815-41e0-aace-4a7aca4806e2"
      },
      "outputs": [
        {
          "output_type": "execute_result",
          "data": {
            "text/plain": [
              "87654321"
            ]
          },
          "metadata": {},
          "execution_count": 3
        }
      ],
      "source": [
        "def desc(num):\n",
        "    res = \"\"\n",
        "    while num > 0:\n",
        "        res += str(num % 10)\n",
        "        num //= 10\n",
        "\n",
        "    return int(res)\n",
        "\n",
        "desc(12345678)"
      ]
    },
    {
      "cell_type": "markdown",
      "source": [
        "2. N개의 자연수가 입력되면 각 자연수를 뒤집고 그 뒤집은 수가 소수이면 그 수를 출력하라."
      ],
      "metadata": {
        "id": "sjlalf4hpT4q"
      }
    },
    {
      "cell_type": "code",
      "source": [
        "num = int(input())\n",
        "num_list = list(map(int, input().split()))\n",
        "\n",
        "def reverse(num):\n",
        "    return desc(num)\n",
        "\n",
        "def isPrime(num):\n",
        "    is_prime = True\n",
        "    for i in range(2, num//2+1):\n",
        "        if num % i == 0:\n",
        "            is_prime = False\n",
        "            break\n",
        "\n",
        "    return is_prime\n",
        "\n",
        "result = []\n",
        "for num in num_list:\n",
        "    res_num = reverse(num)\n",
        "    if isPrime(res_num):\n",
        "        result.append(str(res_num))\n",
        "\n",
        "print(\" \".join(result))"
      ],
      "metadata": {
        "colab": {
          "base_uri": "https://localhost:8080/"
        },
        "id": "2KXnOVWlpUIh",
        "outputId": "3cc2ffb2-0436-40fb-c62f-8ff641433abb"
      },
      "execution_count": 5,
      "outputs": [
        {
          "output_type": "stream",
          "name": "stdout",
          "text": [
            "5\n",
            "32 55 62 3700 250\n",
            "23 73\n"
          ]
        }
      ]
    },
    {
      "cell_type": "markdown",
      "source": [
        "3. 높이가 V미터인 나무 막대를 오를 때, 낮에 A미터, 밤에 B미터를 미끄러진다. 정상에 올라간 이후는 미끄러지지 않을 때, 모두 올라가려면 며칠이 걸리는가?"
      ],
      "metadata": {
        "id": "ZnCqqkFNtPlZ"
      }
    },
    {
      "cell_type": "code",
      "source": [
        "A, B, V = map(int, input().split())\n",
        "\n",
        "days = (V - A) // (A- B) + 1\n",
        "if (V - A) % (A - B) != 0:\n",
        "    days += 1\n",
        "\n",
        "print(days)"
      ],
      "metadata": {
        "colab": {
          "base_uri": "https://localhost:8080/"
        },
        "id": "imjuRL9UtQXp",
        "outputId": "d9155165-554f-46ec-8b66-9a6e65a97b1a"
      },
      "execution_count": null,
      "outputs": [
        {
          "output_type": "stream",
          "name": "stdout",
          "text": [
            "100 99 1000000000\n",
            "999999901\n"
          ]
        }
      ]
    },
    {
      "cell_type": "markdown",
      "source": [
        "4. N명의 수학점수에서 평균에서 가장 가까운 학생은 몇 번째 학생인지 출력하라. 단, 평균과 가장 가까운 점수가 여러개라면 높은 점수를 답으로, 점수가 같다면 학생번호가 빠른 학생을 답으로 한다."
      ],
      "metadata": {
        "id": "BOtcW5Jgw2lY"
      }
    },
    {
      "cell_type": "code",
      "source": [
        "stu_num = int(input())\n",
        "math_score = list(map(int, input().split()))\n",
        "\n",
        "score_sum = sum(math_score)\n",
        "mean = score_sum / stu_num\n",
        "\n",
        "if mean % 1 >= 0.5:\n",
        "    mean = int(mean) + 1\n",
        "else:\n",
        "    mean = int(mean)\n",
        "\n",
        "min_diff_index = 0\n",
        "\n",
        "for i in range(1, stu_num):\n",
        "    diff = mean - math_score[i]\n",
        "    if abs(mean - math_score[min_diff_index]) > abs(diff):\n",
        "        min_diff_index = i\n",
        "    elif abs(mean - math_score[min_diff_index]) == abs(diff):\n",
        "        min_diff_index = i if math_score[min_diff_index] < math_score[i] else min_diff_index\n",
        "\n",
        "\n",
        "print(mean, min_diff_index+1)"
      ],
      "metadata": {
        "colab": {
          "base_uri": "https://localhost:8080/"
        },
        "id": "18YUxD20w3eA",
        "outputId": "ba7c1d42-2ff5-486c-9cec-16257d43ca18"
      },
      "execution_count": null,
      "outputs": [
        {
          "output_type": "stream",
          "name": "stdout",
          "text": [
            "10\n",
            "45 73 66 87 92 67 75 79 75 80\n",
            "74 7\n"
          ]
        }
      ]
    },
    {
      "cell_type": "markdown",
      "source": [
        "5. N개의 수로 구성된 수열에서 인덱스가 이웃한 수들을 더해 M을 만드는 경우의 수를 구하는 프로그램을 작성하라."
      ],
      "metadata": {
        "id": "UpwVVH0Q20P7"
      }
    },
    {
      "cell_type": "code",
      "source": [
        "def count_n(M, i):\n",
        "    if i == len(num_list):\n",
        "        return 0\n",
        "    \n",
        "    M -= num_list[i]\n",
        "    if M == 0:\n",
        "        return 1\n",
        "    elif M < 0:\n",
        "        return 0\n",
        "    \n",
        "    return count_n(M, i+1)"
      ],
      "metadata": {
        "id": "INwfUElfC2-q"
      },
      "execution_count": 9,
      "outputs": []
    },
    {
      "cell_type": "code",
      "source": [
        "N, M = list(map(int, input().split()))\n",
        "num_list = list(map(int, input().split()))\n",
        "\n",
        "count = 0\n",
        "for i in range(N):\n",
        "    count += count_n(M, i)\n",
        "    \n",
        "print(count)"
      ],
      "metadata": {
        "colab": {
          "base_uri": "https://localhost:8080/"
        },
        "id": "TT4cBmjM21JL",
        "outputId": "a6be57f2-1529-4679-ea4a-75ba5500d650"
      },
      "execution_count": 10,
      "outputs": [
        {
          "output_type": "stream",
          "name": "stdout",
          "text": [
            "8 3\n",
            "1 2 1 3 1 1 1 2\n",
            "5\n"
          ]
        }
      ]
    },
    {
      "cell_type": "markdown",
      "source": [
        "6. 스도쿠 정답 확인 프로그램 작성\n"
      ],
      "metadata": {
        "id": "bvV_uESl7ngN"
      }
    },
    {
      "cell_type": "code",
      "source": [
        "board = []\n",
        "board_size = 9\n",
        "board_sum = sum(range(1, board_size+1))\n",
        "is_correct = True\n",
        "\n",
        "for _ in range(board_size):\n",
        "    row = list(map(int, input().split()))\n",
        "    board.append(row)\n",
        "\n",
        "for row in range(0, board_size):\n",
        "    col_sum = 0\n",
        "    sqr_sum = 0\n",
        "\n",
        "    for col in range(0, board_size):\n",
        "        col_sum += board[col][row]\n",
        "        sqr_sum += board[3 * (row//3) + (col//3)][3 * (row%3) + col%3]\n",
        "    if sum(board[row]) != board_sum or col_sum != board_sum or sqr_sum != board_sum:\n",
        "        is_correct = False\n",
        "        break\n",
        "\n",
        "if is_correct:\n",
        "    print('YES')\n",
        "else:\n",
        "    print('No')"
      ],
      "metadata": {
        "colab": {
          "base_uri": "https://localhost:8080/"
        },
        "id": "7-Pu90vt7oU1",
        "outputId": "0dd16f27-1d26-452a-833e-06ceecbd0f42"
      },
      "execution_count": 13,
      "outputs": [
        {
          "output_type": "stream",
          "name": "stdout",
          "text": [
            "1 4 3 6 2 8 5 7 9\n",
            "5 7 2 1 3 9 4 6 8\n",
            "9 8 6 7 5 4 2 3 1\n",
            "3 9 1 5 4 2 7 8 6\n",
            "4 6 8 9 1 7 3 5 2\n",
            "7 2 5 8 6 3 9 1 4\n",
            "2 3 7 4 8 1 6 9 5\n",
            "6 1 9 2 7 3 8 4 5\n",
            "8 5 4 3 9 6 1 2 7\n",
            "No\n"
          ]
        }
      ]
    },
    {
      "cell_type": "markdown",
      "source": [
        "위의 문제 인덱스 확인"
      ],
      "metadata": {
        "id": "RSbSmMKXJ5T6"
      }
    },
    {
      "cell_type": "code",
      "source": [
        "for row in range(9):\n",
        "    for col in range(9):\n",
        "        print(3*(row//3)+(col//3), 3*(row%3)+col%3)"
      ],
      "metadata": {
        "colab": {
          "base_uri": "https://localhost:8080/"
        },
        "id": "k1Ze2bd4IFQt",
        "outputId": "9fa2bd20-e908-40eb-9e1f-f60d894908d4"
      },
      "execution_count": 11,
      "outputs": [
        {
          "output_type": "stream",
          "name": "stdout",
          "text": [
            "0 0\n",
            "0 1\n",
            "0 2\n",
            "1 0\n",
            "1 1\n",
            "1 2\n",
            "2 0\n",
            "2 1\n",
            "2 2\n",
            "0 3\n",
            "0 4\n",
            "0 5\n",
            "1 3\n",
            "1 4\n",
            "1 5\n",
            "2 3\n",
            "2 4\n",
            "2 5\n",
            "0 6\n",
            "0 7\n",
            "0 8\n",
            "1 6\n",
            "1 7\n",
            "1 8\n",
            "2 6\n",
            "2 7\n",
            "2 8\n",
            "3 0\n",
            "3 1\n",
            "3 2\n",
            "4 0\n",
            "4 1\n",
            "4 2\n",
            "5 0\n",
            "5 1\n",
            "5 2\n",
            "3 3\n",
            "3 4\n",
            "3 5\n",
            "4 3\n",
            "4 4\n",
            "4 5\n",
            "5 3\n",
            "5 4\n",
            "5 5\n",
            "3 6\n",
            "3 7\n",
            "3 8\n",
            "4 6\n",
            "4 7\n",
            "4 8\n",
            "5 6\n",
            "5 7\n",
            "5 8\n",
            "6 0\n",
            "6 1\n",
            "6 2\n",
            "7 0\n",
            "7 1\n",
            "7 2\n",
            "8 0\n",
            "8 1\n",
            "8 2\n",
            "6 3\n",
            "6 4\n",
            "6 5\n",
            "7 3\n",
            "7 4\n",
            "7 5\n",
            "8 3\n",
            "8 4\n",
            "8 5\n",
            "6 6\n",
            "6 7\n",
            "6 8\n",
            "7 6\n",
            "7 7\n",
            "7 8\n",
            "8 6\n",
            "8 7\n",
            "8 8\n"
          ]
        }
      ]
    }
  ]
}