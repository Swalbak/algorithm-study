{
  "nbformat": 4,
  "nbformat_minor": 0,
  "metadata": {
    "colab": {
      "provenance": [],
      "collapsed_sections": [],
      "authorship_tag": "ABX9TyOmrKdJHzqCtHRV7uYt9COM",
      "include_colab_link": true
    },
    "kernelspec": {
      "name": "python3",
      "display_name": "Python 3"
    },
    "language_info": {
      "name": "python"
    }
  },
  "cells": [
    {
      "cell_type": "markdown",
      "metadata": {
        "id": "view-in-github",
        "colab_type": "text"
      },
      "source": [
        "<a href=\"https://colab.research.google.com/github/Swalbak/algorithm-study/blob/main/algorithm_class/ipynb/%EC%95%8C%EA%B3%A0%EB%A6%AC%EC%A6%98_6%EC%A3%BC%EC%B0%A8.ipynb\" target=\"_parent\"><img src=\"https://colab.research.google.com/assets/colab-badge.svg\" alt=\"Open In Colab\"/></a>"
      ]
    },
    {
      "cell_type": "markdown",
      "source": [
        "# 1. 퀵 정렬을 오름차순으로 구현하시오."
      ],
      "metadata": {
        "id": "QUsPkDphBc1w"
      }
    },
    {
      "cell_type": "code",
      "execution_count": null,
      "metadata": {
        "id": "p1RtSWVymbNS"
      },
      "outputs": [],
      "source": [
        "def quick_sort(A, start, end, reverse=False):\n",
        "    if start >= end:\n",
        "        return\n",
        "\n",
        "    i = partition(A, start, end, reverse)\n",
        "    quick_sort(A, start, i-1, reverse)\n",
        "    quick_sort(A, i+1, end, reverse)"
      ]
    },
    {
      "cell_type": "code",
      "source": [
        "def partition(A, start, end, reverse):\n",
        "    pivot = end\n",
        "    A[end], A[(start+end)//2] = A[(start+end)//2], A[end]\n",
        "    i = start\n",
        "    \n",
        "    for p in range(start, end):\n",
        "        if not reverse:\n",
        "            if A[p] < A[pivot]:\n",
        "                A[i], A[p] = A[p], A[i]\n",
        "                i += 1\n",
        "        else:\n",
        "            if A[p] > A[pivot]:\n",
        "                A[i], A[p] = A[p], A[i]\n",
        "                i += 1\n",
        "\n",
        "    A[i], A[pivot] = A[pivot], A[i]\n",
        "\n",
        "    return i"
      ],
      "metadata": {
        "id": "O-c_bhvCGcgo"
      },
      "execution_count": null,
      "outputs": []
    },
    {
      "cell_type": "code",
      "source": [
        "A = [1, 5, 3, 6, 3, 2, 1, 7]\n",
        "quick_sort(A, 0, len(A)-1, reverse=True)\n",
        "A"
      ],
      "metadata": {
        "colab": {
          "base_uri": "https://localhost:8080/"
        },
        "id": "5vAT4U_2FfVo",
        "outputId": "8256541c-c7b7-4cd3-ca01-770fe44b3481"
      },
      "execution_count": null,
      "outputs": [
        {
          "output_type": "execute_result",
          "data": {
            "text/plain": [
              "[7, 6, 5, 3, 3, 2, 1, 1]"
            ]
          },
          "metadata": {},
          "execution_count": 12
        }
      ]
    },
    {
      "cell_type": "markdown",
      "source": [
        "# 2. 정렬된 두 배열을 합친 후 정렬하여 출력하는 프로그램을 작성하시오."
      ],
      "metadata": {
        "id": "7JlkhKS7Hvx5"
      }
    },
    {
      "cell_type": "code",
      "source": [
        "def merge(A, B):\n",
        "    i = k = 0\n",
        "    merged_arr = []\n",
        "\n",
        "    while i < len(A) and k < len(B):\n",
        "        if A[i] < B[k]:\n",
        "            merged_arr.append(A[i])\n",
        "            i += 1\n",
        "        else:\n",
        "            merged_arr.append(B[k])\n",
        "            k += 1\n",
        "    \n",
        "    if i == len(A):\n",
        "        merged_arr += B[k:]\n",
        "    else:\n",
        "        merged_arr += A[i:]\n",
        "    \n",
        "    return merged_arr"
      ],
      "metadata": {
        "id": "yZbRYNWkH1l4"
      },
      "execution_count": null,
      "outputs": []
    },
    {
      "cell_type": "code",
      "source": [
        "N, M = map(int, input().split())\n",
        "A = list(map(int, input().split()))\n",
        "B = list(map(int, input().split()))\n",
        "\n",
        "merge(A, B)"
      ],
      "metadata": {
        "colab": {
          "base_uri": "https://localhost:8080/"
        },
        "id": "xMjiFoVlI-9J",
        "outputId": "9540b0f1-6b3c-47cb-acfc-383535233743"
      },
      "execution_count": null,
      "outputs": [
        {
          "name": "stdout",
          "output_type": "stream",
          "text": [
            "4 3\n",
            "2 3 5 9\n",
            "1 4 7\n"
          ]
        },
        {
          "output_type": "execute_result",
          "data": {
            "text/plain": [
              "[1, 2, 3, 4, 5, 7, 9]"
            ]
          },
          "metadata": {},
          "execution_count": 17
        }
      ]
    },
    {
      "cell_type": "markdown",
      "source": [
        "# 3. 주어진 완전 이진 트리가 MAX-HEAP인지 확인하라."
      ],
      "metadata": {
        "id": "lJ9sO6HzJcoJ"
      }
    },
    {
      "cell_type": "code",
      "source": [
        "array = [None, 16, 15, 8, 7, 13, 2, 2, 5]\n",
        "is_Max_heap = True\n",
        "for i in range(len(array)-1, 1, -1):\n",
        "    if array[i] > array[i//2]:\n",
        "        is_Max_heap = False\n",
        "        break\n",
        "\n",
        "is_Max_heap"
      ],
      "metadata": {
        "id": "WvEf0mTBKf6B",
        "colab": {
          "base_uri": "https://localhost:8080/"
        },
        "outputId": "7719b8da-90e9-4269-df22-819887e8a393"
      },
      "execution_count": 41,
      "outputs": [
        {
          "output_type": "execute_result",
          "data": {
            "text/plain": [
              "True"
            ]
          },
          "metadata": {},
          "execution_count": 41
        }
      ]
    },
    {
      "cell_type": "markdown",
      "source": [
        "# 4. MAX-HEAPIFY 알고리즘을 직접 구현하시오."
      ],
      "metadata": {
        "id": "hbxkJ5YR1LP1"
      }
    },
    {
      "cell_type": "code",
      "source": [
        "# Tree Class\n",
        "class TreeNode:\n",
        "    data = None\n",
        "    left = None\n",
        "    right = None"
      ],
      "metadata": {
        "id": "imwHXyTr4rMt"
      },
      "execution_count": 25,
      "outputs": []
    },
    {
      "cell_type": "code",
      "source": [
        "# array to tree\n",
        "def make_tree(i):\n",
        "    if(i >= len(array)):\n",
        "        return\n",
        "    \n",
        "    node = TreeNode()\n",
        "    node.data = array[i]\n",
        "    node.left = make_tree(i*2)\n",
        "    node.right = make_tree(i*2+1)\n",
        "\n",
        "    return node"
      ],
      "metadata": {
        "id": "qeCxErqr8mo_"
      },
      "execution_count": 26,
      "outputs": []
    },
    {
      "cell_type": "code",
      "source": [
        "# max_heapify algorithm\n",
        "def max_heapify(node):\n",
        "    if node.left == None:\n",
        "        return\n",
        "    elif node.right == None:\n",
        "        if node.left.data > node.data:\n",
        "            node.left.data, node.data = node.data, node.left.data\n",
        "            max_heapify(node.left)\n",
        "    else:\n",
        "        right = node.right.data\n",
        "        left = node.left.data\n",
        "        if left > node.data:\n",
        "            node.left.data, node.data = node.data, node.left.data\n",
        "            max_heapify(node.left)\n",
        "        elif right > node.data:\n",
        "            node.right.data, node.data = node.data, node.right.data\n",
        "            max_heapify(node.right)"
      ],
      "metadata": {
        "id": "tazsoqkIy4gY"
      },
      "execution_count": 27,
      "outputs": []
    },
    {
      "cell_type": "code",
      "source": [
        "# to check the tree is heapify\n",
        "def is_heapify(node):\n",
        "    if node.left == None:\n",
        "        return True\n",
        "\n",
        "    elif node.right == None:\n",
        "        if node.left.data <= node.data:\n",
        "            return max_heapify(node.left)\n",
        "        else:\n",
        "            return False\n",
        "\n",
        "    else:\n",
        "        if node.left.data > node.data or node.right.data > node.data:\n",
        "            return False\n",
        "        else:\n",
        "            return is_heapify(node.left) and is_heapify(node.right)"
      ],
      "metadata": {
        "id": "ITZasdiwA9YW"
      },
      "execution_count": 28,
      "outputs": []
    },
    {
      "cell_type": "code",
      "source": [
        "array = [None, 4, 16, 15, 8, 7, 13, 14, 2, 5]\n",
        "root = make_tree(1)\n",
        "\n",
        "max_heapify(root)\n",
        "is_heapify(root)"
      ],
      "metadata": {
        "colab": {
          "base_uri": "https://localhost:8080/"
        },
        "id": "lhiX7YXoAAcP",
        "outputId": "9c3c1e5a-9443-408e-c689-ca030e5aca69"
      },
      "execution_count": 42,
      "outputs": [
        {
          "output_type": "execute_result",
          "data": {
            "text/plain": [
              "True"
            ]
          },
          "metadata": {},
          "execution_count": 42
        }
      ]
    },
    {
      "cell_type": "markdown",
      "source": [
        "# 5. 정렬된 여러 묶음의 카드에서, 최소한 몇 번의 비교가 필요한지 구하는 프로그램 만들기"
      ],
      "metadata": {
        "id": "GiLNY8G8G8_v"
      }
    },
    {
      "cell_type": "code",
      "source": [
        "from heapq import *\n",
        "\n",
        "N = int(input())\n",
        "array = []\n",
        "for _ in range(N):\n",
        "    heappush(array, int(input()))\n",
        "sum = 0\n",
        "\n",
        "while len(array) > 1:\n",
        "    temp = []\n",
        "    temp_sum = 0\n",
        "    for i in range(len(array)//2):\n",
        "        temp_sum = heappop(array) + heappop(array)\n",
        "        sum += temp_sum\n",
        "        temp.append(temp_sum)\n",
        "\n",
        "    if len(array)%2 == 1:\n",
        "        temp.append(heappop(array))\n",
        "    \n",
        "    for num in temp:\n",
        "        heappush(array, num)\n",
        "\n",
        "sum"
      ],
      "metadata": {
        "colab": {
          "base_uri": "https://localhost:8080/"
        },
        "id": "cTa6s9LAHMY_",
        "outputId": "afcb456b-1538-4e4d-ac9e-5458d107be98"
      },
      "execution_count": 40,
      "outputs": [
        {
          "name": "stdout",
          "output_type": "stream",
          "text": [
            "3\n",
            "10\n",
            "50\n",
            "70\n"
          ]
        },
        {
          "output_type": "execute_result",
          "data": {
            "text/plain": [
              "190"
            ]
          },
          "metadata": {},
          "execution_count": 40
        }
      ]
    }
  ]
}