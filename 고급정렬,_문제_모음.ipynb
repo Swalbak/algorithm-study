{
  "nbformat": 4,
  "nbformat_minor": 0,
  "metadata": {
    "colab": {
      "provenance": [],
      "collapsed_sections": [],
      "authorship_tag": "ABX9TyPrE4THaEf5ByWAPMx89i0C",
      "include_colab_link": true
    },
    "kernelspec": {
      "name": "python3",
      "display_name": "Python 3"
    },
    "language_info": {
      "name": "python"
    }
  },
  "cells": [
    {
      "cell_type": "markdown",
      "metadata": {
        "id": "view-in-github",
        "colab_type": "text"
      },
      "source": [
        "<a href=\"https://colab.research.google.com/github/Swalbak/algorithm-study/blob/main/%EA%B3%A0%EA%B8%89%EC%A0%95%EB%A0%AC%2C_%EB%AC%B8%EC%A0%9C_%EB%AA%A8%EC%9D%8C.ipynb\" target=\"_parent\"><img src=\"https://colab.research.google.com/assets/colab-badge.svg\" alt=\"Open In Colab\"/></a>"
      ]
    },
    {
      "cell_type": "markdown",
      "source": [
        "# 프린터 큐"
      ],
      "metadata": {
        "id": "UBPI0CS_bYOX"
      }
    },
    {
      "cell_type": "code",
      "source": [
        "q = [1, 1, 9, 1, 1, 1]"
      ],
      "metadata": {
        "id": "GODGuBAnXefA"
      },
      "execution_count": null,
      "outputs": []
    },
    {
      "cell_type": "code",
      "source": [
        "iter = int(input())\n",
        "for _ in range(iter):\n",
        "    N, i = list(map(int, input().split()))\n",
        "    q = list(map(int, input().split()))\n",
        "    count = 0\n",
        "\n",
        "    while len(q) != 0:\n",
        "        max_value = max(q)\n",
        "        first_value = q[0]\n",
        "        i -= 1\n",
        "        q = q[1:]\n",
        "        \n",
        "        if first_value == max_value:\n",
        "            count += 1\n",
        "            if i < 0:\n",
        "                print(count)\n",
        "                break\n",
        "        else:\n",
        "            q.append(first_value)\n",
        "\n",
        "        if i < 0:\n",
        "            i = len(q) - 1\n"
      ],
      "metadata": {
        "colab": {
          "base_uri": "https://localhost:8080/"
        },
        "id": "zwIyaXmNVmpW",
        "outputId": "095d185b-9ef9-4afc-d759-32e39cd71961"
      },
      "execution_count": null,
      "outputs": [
        {
          "output_type": "stream",
          "name": "stdout",
          "text": [
            "3\n",
            "1 0\n",
            "5\n",
            "1\n",
            "4 2\n",
            "1 2 3 4\n",
            "2\n",
            "6 0\n",
            "1 1 9 1 1 1\n",
            "5\n"
          ]
        }
      ]
    },
    {
      "cell_type": "markdown",
      "source": [
        "# 점수 계산"
      ],
      "metadata": {
        "id": "BL3jkNU8bnrS"
      }
    },
    {
      "cell_type": "code",
      "source": [
        "p_num = []\n",
        "p_score = []\n",
        "for i in range(8):\n",
        "    score = int(input())\n",
        "    if len(p_score) < 5:\n",
        "        p_score.append(score)\n",
        "        p_num.append(i+1)\n",
        "    else:\n",
        "        min_score_i = p_score.index(min(p_score))\n",
        "        if score > p_score[min_score_i]:\n",
        "            p_score[min_score_i] = score\n",
        "            p_num[min_score_i] = i+1\n",
        "\n",
        "print(sum(p_score))\n",
        "sorted(p_num)"
      ],
      "metadata": {
        "id": "GEuRvvYebp2y",
        "colab": {
          "base_uri": "https://localhost:8080/"
        },
        "outputId": "cbfeca27-3bd4-49ab-98a3-326d24575c59"
      },
      "execution_count": null,
      "outputs": [
        {
          "output_type": "stream",
          "name": "stdout",
          "text": [
            "20\n",
            "30\n",
            "50\n",
            "48\n",
            "33\n",
            "66\n",
            "0\n",
            "64\n",
            "261\n"
          ]
        },
        {
          "output_type": "execute_result",
          "data": {
            "text/plain": [
              "[3, 4, 5, 6, 8]"
            ]
          },
          "metadata": {},
          "execution_count": 5
        }
      ]
    },
    {
      "cell_type": "markdown",
      "source": [
        "# 5568 카드놓기"
      ],
      "metadata": {
        "id": "zFN3gvxsg9to"
      }
    },
    {
      "cell_type": "code",
      "source": [
        "N = int(input())\n",
        "K = int(input())\n",
        "card = input().split()\n",
        "flag = [0] * N\n",
        "res = set()\n",
        "temp = ''\n",
        "\n",
        "def cat_card(count):\n",
        "    global temp\n",
        "    if count == K:\n",
        "        res.add(temp)\n",
        "        return\n",
        "    \n",
        "    for i in range(N):\n",
        "        if flag[i] == 1:\n",
        "            continue\n",
        "        flag[i] = 1\n",
        "        temp += card[i]\n",
        "        cat_card(count+1)\n",
        "        flag[i] = 0\n",
        "        temp = temp[:-len(card[i])]\n",
        "\n",
        "cat_card(0)\n",
        "print(list(res))"
      ],
      "metadata": {
        "colab": {
          "base_uri": "https://localhost:8080/"
        },
        "id": "2WnFaiFghAix",
        "outputId": "5f103ac9-b640-473f-ed71-9ee016e4bdf1"
      },
      "execution_count": null,
      "outputs": [
        {
          "output_type": "stream",
          "name": "stdout",
          "text": [
            "4\n",
            "2\n",
            "1 2 12 1\n",
            "['112', '11', '212', '12', '21', '122', '121']\n"
          ]
        }
      ]
    },
    {
      "cell_type": "markdown",
      "source": [
        "# 설탕 배달"
      ],
      "metadata": {
        "id": "9TQMHGb2Htlt"
      }
    },
    {
      "cell_type": "code",
      "source": [
        "sugar = int(input())\n",
        "\n",
        "n = 0\n",
        "while sugar >= 0:\n",
        "    if sugar % 5 == 0:\n",
        "        n += (sugar // 5)\n",
        "        print(n)\n",
        "        break\n",
        "    sugar -= 3\n",
        "    n += 1\n",
        "    \n",
        "if sugar < 0:\n",
        "    print(-1)"
      ],
      "metadata": {
        "colab": {
          "base_uri": "https://localhost:8080/"
        },
        "id": "as068FuPGgG5",
        "outputId": "1714639c-dfb6-4da5-a620-d3e93d525f91"
      },
      "execution_count": null,
      "outputs": [
        {
          "output_type": "stream",
          "name": "stdout",
          "text": [
            "12\n",
            "4\n"
          ]
        }
      ]
    },
    {
      "cell_type": "markdown",
      "source": [
        "# 하노이 탑"
      ],
      "metadata": {
        "id": "XiG1jKoEy2Vg"
      }
    },
    {
      "cell_type": "code",
      "source": [
        "def hanoi(n, start, end):\n",
        "    if n == 1:\n",
        "        print(start, end)\n",
        "        return\n",
        "    hanoi(n-1, start, 6-(start+end))\n",
        "    print(start, end)\n",
        "    hanoi(n-1, 6-(start+end), end)\n",
        "\n",
        "n = int(input())\n",
        "print(2**n-1)\n",
        "hanoi(n, 1, 3)"
      ],
      "metadata": {
        "colab": {
          "base_uri": "https://localhost:8080/"
        },
        "id": "kQSIZgcBy5F_",
        "outputId": "32f1a409-cc1f-46e1-ac79-eafd34cefb98"
      },
      "execution_count": null,
      "outputs": [
        {
          "output_type": "stream",
          "name": "stdout",
          "text": [
            "3\n",
            "7\n",
            "1 3\n",
            "1 2\n",
            "3 2\n",
            "1 3\n",
            "2 1\n",
            "2 3\n",
            "1 3\n"
          ]
        }
      ]
    },
    {
      "cell_type": "markdown",
      "source": [
        "# 수 찾기"
      ],
      "metadata": {
        "id": "74gtTvfay5Vn"
      }
    },
    {
      "cell_type": "code",
      "source": [
        "def binary_search(arr, start, end, val):\n",
        "    if end < start:\n",
        "        return 0\n",
        "\n",
        "    piv = (start + end) // 2\n",
        "    if arr[piv] == val:\n",
        "        return 1\n",
        "    elif arr[piv] < val:\n",
        "        return binary_search(arr, piv+1, end, val)\n",
        "    else:\n",
        "        return binary_search(arr, start, piv-1, val)"
      ],
      "metadata": {
        "id": "bk096iksy6wZ"
      },
      "execution_count": null,
      "outputs": []
    },
    {
      "cell_type": "code",
      "source": [
        "N = int(input())\n",
        "card = list(map(int, input().split()))\n",
        "card.sort()\n",
        "\n",
        "M = int(input())\n",
        "nums = list(map(int, input().split()))\n",
        "\n",
        "for num in nums:\n",
        "    print(binary_search(card, 0, len(card)-1, num))"
      ],
      "metadata": {
        "colab": {
          "base_uri": "https://localhost:8080/"
        },
        "id": "DZWSEb08zw_h",
        "outputId": "57c3821b-49e9-4ead-de2f-87a7ef537b59"
      },
      "execution_count": null,
      "outputs": [
        {
          "output_type": "stream",
          "name": "stdout",
          "text": [
            "5\n",
            "4 1 5 2 3\n",
            "5\n",
            "1 3 7 9 5\n",
            "1\n",
            "1\n",
            "0\n",
            "0\n",
            "1\n"
          ]
        }
      ]
    },
    {
      "cell_type": "markdown",
      "source": [
        "# 고급 정렬"
      ],
      "metadata": {
        "id": "-kM-S7Mmy73B"
      }
    },
    {
      "cell_type": "code",
      "source": [
        "def merge_sort(arr, start, end):\n",
        "    if end <= start:\n",
        "        return\n",
        "    piv = (start + end) // 2\n",
        "    merge_sort(arr, start, piv)\n",
        "    merge_sort(arr, piv+1, end)\n",
        "    merge(arr, start, piv, end)"
      ],
      "metadata": {
        "id": "yKnymoqnAlvG"
      },
      "execution_count": null,
      "outputs": []
    },
    {
      "cell_type": "code",
      "source": [
        "def merge(arr, start, piv, end):\n",
        "    i = start\n",
        "    k = piv + 1\n",
        "    temp=[]\n",
        "    while i <= piv and k <= end:\n",
        "        if arr[i] < arr[k]:\n",
        "            temp.append(arr[i])\n",
        "            i += 1\n",
        "        else:\n",
        "            temp.append(arr[k])\n",
        "            k += 1\n",
        "    if i > piv:\n",
        "        temp += arr[k:end+1]\n",
        "    else:\n",
        "        temp += arr[i:piv+1]\n",
        "    \n",
        "    for index in range(len(temp)):\n",
        "        arr[start + index] = temp[index]"
      ],
      "metadata": {
        "id": "C_Ak0atvA7nL"
      },
      "execution_count": null,
      "outputs": []
    },
    {
      "cell_type": "code",
      "source": [
        "array = [1, 3, 2, 5, 4, 3, 6]\n",
        "merge_sort(array, 0, len(array)-1)\n",
        "array"
      ],
      "metadata": {
        "colab": {
          "base_uri": "https://localhost:8080/"
        },
        "id": "bWIMUckptEyN",
        "outputId": "293e817f-0b28-4cc8-b963-91c444213a2a"
      },
      "execution_count": null,
      "outputs": [
        {
          "output_type": "execute_result",
          "data": {
            "text/plain": [
              "[1, 2, 3, 3, 4, 5, 6]"
            ]
          },
          "metadata": {},
          "execution_count": 87
        }
      ]
    },
    {
      "cell_type": "code",
      "source": [
        "def quick_sort(arr, i, k):\n",
        "    if k <= i:\n",
        "        return\n",
        "\n",
        "    piv = (i + k) // 2\n",
        "    arr[piv], arr[k] = arr[k], arr[piv]\n",
        "    piv = k\n",
        "    \n",
        "    index = i\n",
        "    for j in range(i, k+1):\n",
        "        if arr[j] <= arr[piv]:\n",
        "            arr[j], arr[index] = arr[index], arr[j]\n",
        "            index += 1\n",
        "\n",
        "    arr[index], arr[piv] = arr[piv], arr[index]\n",
        "    \n",
        "    quick_sort(arr, i, index-1)\n",
        "    quick_sort(arr, index+1, k)"
      ],
      "metadata": {
        "id": "wlwiTGmYvaPT"
      },
      "execution_count": null,
      "outputs": []
    },
    {
      "cell_type": "code",
      "source": [
        "def quick_sort(arr, start, end):\n",
        "    if end <= start:\n",
        "        return\n",
        "    piv = (start+end)//2\n",
        "    arr[end], arr[piv] = arr[piv], arr[end]\n",
        "    piv = end\n",
        "\n",
        "    i = start\n",
        "    for k in range(start, end):\n",
        "        if arr[piv] >= arr[k]:\n",
        "            arr[i], arr[k] = arr[k], arr[i]\n",
        "            i += 1\n",
        "    arr[i], arr[piv] = arr[piv], arr[i]\n",
        "    quick_sort(arr, start, i-1)\n",
        "    quick_sort(arr, i+1, end)"
      ],
      "metadata": {
        "id": "0VYT9fuVCL5G"
      },
      "execution_count": null,
      "outputs": []
    },
    {
      "cell_type": "code",
      "source": [
        "array = [1, 3, 2, 5, 4, 3, 6]\n",
        "quick_sort(array, 0, len(array)-1)\n",
        "array"
      ],
      "metadata": {
        "colab": {
          "base_uri": "https://localhost:8080/"
        },
        "id": "3TpYtF-bDVoU",
        "outputId": "e7cb3e82-f811-4dc4-aad4-ec5a44171961"
      },
      "execution_count": null,
      "outputs": [
        {
          "output_type": "execute_result",
          "data": {
            "text/plain": [
              "[1, 2, 3, 3, 4, 5, 6]"
            ]
          },
          "metadata": {},
          "execution_count": 92
        }
      ]
    },
    {
      "cell_type": "code",
      "source": [
        "def heapify(arr, i):\n",
        "    if i * 2 >= len(arr):\n",
        "        return\n",
        "    max_node = i * 2\n",
        "\n",
        "    if i*2 + 1 < len(arr):\n",
        "        if arr[max_node] < arr[i*2+1]:  #min, max 변경\n",
        "            max_node += 1\n",
        "    \n",
        "    if arr[max_node] > arr[i]:  #min, max 변경\n",
        "        arr[max_node], arr[i] = arr[i], arr[max_node]\n",
        "        heapify(arr, max_node)    "
      ],
      "metadata": {
        "id": "JDXpGNki22BL"
      },
      "execution_count": null,
      "outputs": []
    },
    {
      "cell_type": "code",
      "source": [
        "def make_heap(arr):\n",
        "    for i in range((len(arr)-1)//2, 0, -1):\n",
        "        heapify(arr, i)"
      ],
      "metadata": {
        "id": "4l7jrmsp4-OP"
      },
      "execution_count": null,
      "outputs": []
    },
    {
      "cell_type": "code",
      "source": [
        "def heap_sort(arr):\n",
        "    if len(arr) == 1:\n",
        "        return []\n",
        "    first = arr[1]\n",
        "    arr[1] = arr[-1]\n",
        "    del arr[-1]\n",
        "    heapify(arr, 1)\n",
        "    \n",
        "    return heap_sort(arr) + [first]"
      ],
      "metadata": {
        "id": "Kk2z8P1-6jq7"
      },
      "execution_count": null,
      "outputs": []
    },
    {
      "cell_type": "code",
      "source": [
        "array = [None, 2, 4, 1, 8, 7, 9, 3, 10, 14, 16]\n",
        "make_heap(array)\n",
        "heap_sort(array)"
      ],
      "metadata": {
        "colab": {
          "base_uri": "https://localhost:8080/"
        },
        "id": "t-ho0LRe4a2T",
        "outputId": "34d0900e-f619-4a54-ee01-4489f2d843ea"
      },
      "execution_count": null,
      "outputs": [
        {
          "output_type": "execute_result",
          "data": {
            "text/plain": [
              "[1, 2, 3, 4, 7, 8, 9, 10, 14, 16]"
            ]
          },
          "metadata": {},
          "execution_count": 69
        }
      ]
    },
    {
      "cell_type": "code",
      "source": [
        "def priority_enqueue(arr, data):\n",
        "    arr.append(data)\n",
        "    data_index = len(arr)-1\n",
        "    for i in range(len(arr)-2, 0, -1):\n",
        "        if arr[i] < data:\n",
        "            arr[i], arr[data_index] = arr[data_index], arr[i]\n",
        "            data_index = i\n",
        "        else:\n",
        "            break"
      ],
      "metadata": {
        "id": "dISGipQ24peb"
      },
      "execution_count": null,
      "outputs": []
    },
    {
      "cell_type": "code",
      "source": [
        "def priority_dequeue(arr):\n",
        "    first = arr[1]\n",
        "    arr[1] = arr[-1]\n",
        "    del arr[-1]\n",
        "    heapify(arr, 1)\n",
        "\n",
        "    return first"
      ],
      "metadata": {
        "id": "u5V4P_nM_3yS"
      },
      "execution_count": null,
      "outputs": []
    },
    {
      "cell_type": "code",
      "source": [
        "array = [None, 2, 4, 1, 8, 7, 9, 3, 10, 14, 16]\n",
        "make_heap(array)\n",
        "priority_enqueue(array, 17)\n",
        "print(array)\n",
        "priority_dequeue(array)"
      ],
      "metadata": {
        "colab": {
          "base_uri": "https://localhost:8080/"
        },
        "id": "VGbmTxTy-qY5",
        "outputId": "9f899fee-9722-4802-f31b-8970fcbb260b"
      },
      "execution_count": null,
      "outputs": [
        {
          "output_type": "stream",
          "name": "stdout",
          "text": [
            "[None, 17, 16, 14, 9, 10, 7, 1, 3, 2, 8, 4]\n"
          ]
        },
        {
          "output_type": "execute_result",
          "data": {
            "text/plain": [
              "17"
            ]
          },
          "metadata": {},
          "execution_count": 84
        }
      ]
    },
    {
      "cell_type": "code",
      "source": [],
      "metadata": {
        "id": "XaDan42COy9F"
      },
      "execution_count": null,
      "outputs": []
    }
  ]
}